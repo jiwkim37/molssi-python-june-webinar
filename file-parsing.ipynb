{
 "cells": [
  {
   "cell_type": "markdown",
   "metadata": {},
   "source": [
    "## File parsing"
   ]
  },
  {
   "cell_type": "code",
   "execution_count": 1,
   "metadata": {},
   "outputs": [
    {
     "name": "stdout",
     "output_type": "stream",
     "text": [
      "03_Prod.mdout              \u001b[34moutfiles\u001b[m\u001b[m/\r\n",
      "benzene.xyz                sapt.out\r\n",
      "buckminsterfullerene.xyz   water.xyz\r\n",
      "distance_data_headers.csv\r\n"
     ]
    }
   ],
   "source": [
    "ls data"
   ]
  },
  {
   "cell_type": "code",
   "execution_count": 2,
   "metadata": {},
   "outputs": [
    {
     "data": {
      "text/plain": [
       "'/Users/jordyn/Desktop/cms-workshop'"
      ]
     },
     "execution_count": 2,
     "metadata": {},
     "output_type": "execute_result"
    }
   ],
   "source": [
    "pwd"
   ]
  },
  {
   "cell_type": "code",
   "execution_count": 3,
   "metadata": {},
   "outputs": [],
   "source": [
    "import os"
   ]
  },
  {
   "cell_type": "code",
   "execution_count": 4,
   "metadata": {},
   "outputs": [
    {
     "name": "stdout",
     "output_type": "stream",
     "text": [
      "data/outfiles/ethanol.out\n"
     ]
    }
   ],
   "source": [
    "ethanol_file = os.path.join('data','outfiles','ethanol.out')\n",
    "print(ethanol_file)"
   ]
  },
  {
   "cell_type": "code",
   "execution_count": 5,
   "metadata": {},
   "outputs": [],
   "source": [
    "outfile = open(ethanol_file,'r')\n",
    "data = outfile.readlines()\n",
    "outfile.close()"
   ]
  },
  {
   "cell_type": "code",
   "execution_count": 6,
   "metadata": {},
   "outputs": [
    {
     "name": "stdout",
     "output_type": "stream",
     "text": [
      "270 lines are in the file\n"
     ]
    }
   ],
   "source": [
    "lines = len(data)\n",
    "print(lines,'lines are in the file')"
   ]
  },
  {
   "cell_type": "code",
   "execution_count": 7,
   "metadata": {},
   "outputs": [
    {
     "name": "stdout",
     "output_type": "stream",
     "text": [
      "  @DF-RHF Final Energy:  -154.09130176573018\n",
      "\n"
     ]
    }
   ],
   "source": [
    "for line in data:\n",
    "    if 'Final Energy' in line:\n",
    "        energy_line = line\n",
    "        print(energy_line)"
   ]
  },
  {
   "cell_type": "code",
   "execution_count": 8,
   "metadata": {},
   "outputs": [
    {
     "name": "stdout",
     "output_type": "stream",
     "text": [
      "  @DF-RHF Final Energy:  -154.09130176573018\n",
      "\n"
     ]
    }
   ],
   "source": [
    "print(energy_line)"
   ]
  },
  {
   "cell_type": "code",
   "execution_count": 9,
   "metadata": {},
   "outputs": [
    {
     "name": "stdout",
     "output_type": "stream",
     "text": [
      "['@DF-RHF', 'Final', 'Energy:', '-154.09130176573018']\n"
     ]
    }
   ],
   "source": [
    "#if you put ':', you split using :, if nothing inside, then you split white space\n",
    "\n",
    "words = energy_line.split()\n",
    "print(words)\n"
   ]
  },
  {
   "cell_type": "code",
   "execution_count": 10,
   "metadata": {},
   "outputs": [
    {
     "name": "stdout",
     "output_type": "stream",
     "text": [
      "-154.09130176573018\n"
     ]
    }
   ],
   "source": [
    "energy = words[3]\n",
    "print(energy)"
   ]
  },
  {
   "cell_type": "code",
   "execution_count": 11,
   "metadata": {},
   "outputs": [
    {
     "name": "stdout",
     "output_type": "stream",
     "text": [
      "-154.09130176573018\n"
     ]
    }
   ],
   "source": [
    "#last element of the list is -1\n",
    "energy = words[-1]\n",
    "print(energy)"
   ]
  },
  {
   "cell_type": "code",
   "execution_count": 12,
   "metadata": {},
   "outputs": [],
   "source": [
    "#override\n",
    "energy = float(energy)"
   ]
  },
  {
   "cell_type": "code",
   "execution_count": 13,
   "metadata": {},
   "outputs": [
    {
     "data": {
      "text/plain": [
       "float"
      ]
     },
     "execution_count": 13,
     "metadata": {},
     "output_type": "execute_result"
    }
   ],
   "source": [
    "type(energy)"
   ]
  },
  {
   "cell_type": "code",
   "execution_count": 14,
   "metadata": {},
   "outputs": [
    {
     "data": {
      "text/plain": [
       "-104.09130176573018"
      ]
     },
     "execution_count": 14,
     "metadata": {},
     "output_type": "execute_result"
    }
   ],
   "source": [
    "energy + 50"
   ]
  },
  {
   "cell_type": "code",
   "execution_count": 15,
   "metadata": {},
   "outputs": [],
   "source": [
    "import glob"
   ]
  },
  {
   "cell_type": "code",
   "execution_count": 16,
   "metadata": {},
   "outputs": [
    {
     "name": "stdout",
     "output_type": "stream",
     "text": [
      "data/outfiles/*.out\n"
     ]
    }
   ],
   "source": [
    "#*: wildcard character matches every character\n",
    "file_location = os.path.join('data','outfiles','*.out')\n",
    "print(file_location)"
   ]
  },
  {
   "cell_type": "code",
   "execution_count": 17,
   "metadata": {},
   "outputs": [
    {
     "name": "stdout",
     "output_type": "stream",
     "text": [
      "['data/outfiles/propanol.out', 'data/outfiles/pentanol.out', 'data/outfiles/decanol.out', 'data/outfiles/methanol.out', 'data/outfiles/octanol.out', 'data/outfiles/ethanol.out', 'data/outfiles/hexanol.out', 'data/outfiles/heptanol.out', 'data/outfiles/butanol.out', 'data/outfiles/nonanol.out']\n"
     ]
    }
   ],
   "source": [
    "filenames = glob.glob(file_location)\n",
    "print(filenames)"
   ]
  },
  {
   "cell_type": "code",
   "execution_count": 23,
   "metadata": {},
   "outputs": [
    {
     "name": "stdout",
     "output_type": "stream",
     "text": [
      "-193.12836249728798\n",
      "-271.20138119895074\n",
      "-466.3836241400086\n",
      "-115.04800861868374\n",
      "-388.3110864554743\n",
      "-154.09130176573018\n",
      "-310.2385332251633\n",
      "-349.27397687072676\n",
      "-232.1655798347283\n",
      "-427.3465180082815\n"
     ]
    }
   ],
   "source": [
    "for file in filenames:\n",
    "    outfile = open(file,'r')\n",
    "    data = outfile.readlines()\n",
    "    outfile.close()\n",
    "    for line in data:\n",
    "        if 'Final Energy' in line:\n",
    "            energy_line = line\n",
    "            words = energy_line.split()\n",
    "            energy = float(words[3])\n",
    "            print(energy)\n",
    "            "
   ]
  },
  {
   "cell_type": "code",
   "execution_count": 21,
   "metadata": {},
   "outputs": [
    {
     "name": "stdout",
     "output_type": "stream",
     "text": [
      "data/outfiles/propanol.out\n"
     ]
    }
   ],
   "source": [
    "first_file = filenames[0]\n",
    "print(first_file)"
   ]
  },
  {
   "cell_type": "code",
   "execution_count": 26,
   "metadata": {},
   "outputs": [
    {
     "name": "stdout",
     "output_type": "stream",
     "text": [
      "propanol.out\n"
     ]
    }
   ],
   "source": [
    "file_name = os.path.basename(first_file)\n",
    "print(file_name)"
   ]
  },
  {
   "cell_type": "code",
   "execution_count": 31,
   "metadata": {},
   "outputs": [
    {
     "name": "stdout",
     "output_type": "stream",
     "text": [
      "propanol\n"
     ]
    }
   ],
   "source": [
    "split_filename = file_name.split('.')\n",
    "molecule_name = split_filename[0]\n",
    "print(molecule_name)"
   ]
  },
  {
   "cell_type": "code",
   "execution_count": 34,
   "metadata": {
    "scrolled": true
   },
   "outputs": [
    {
     "name": "stdout",
     "output_type": "stream",
     "text": [
      "propanol -193.12836249728798\n",
      "pentanol -271.20138119895074\n",
      "decanol -466.3836241400086\n",
      "methanol -115.04800861868374\n",
      "octanol -388.3110864554743\n",
      "ethanol -154.09130176573018\n",
      "hexanol -310.2385332251633\n",
      "heptanol -349.27397687072676\n",
      "butanol -232.1655798347283\n",
      "nonanol -427.3465180082815\n"
     ]
    }
   ],
   "source": [
    "for file in filenames:\n",
    "    file_name = os.path.basename(file)\n",
    "    split_filename = file_name.split('.')\n",
    "    molecule_name = split_filename[0]\n",
    "    \n",
    "    outfile = open(file,'r')\n",
    "    data = outfile.readlines()\n",
    "    outfile.close()\n",
    "    \n",
    "    for line in data:\n",
    "        if 'Final Energy' in line:\n",
    "            energy_line = line\n",
    "            words = energy_line.split()\n",
    "            energy = float(words[3])\n",
    "            print(molecule_name,energy)"
   ]
  },
  {
   "cell_type": "code",
   "execution_count": 44,
   "metadata": {},
   "outputs": [],
   "source": [
    "#w+ plus means if this file doesn't exist, then I want you to make the file\n",
    "filehandle = open('energies.txt','w+')\n",
    "\n",
    "for file in filenames:\n",
    "    file_name = os.path.basename(file)\n",
    "    split_filename = file_name.split('.')\n",
    "    molecule_name = split_filename[0]\n",
    "    \n",
    "    outfile = open(file,'r')\n",
    "    data = outfile.readlines()\n",
    "    outfile.close()\n",
    "    \n",
    "    for line in data:\n",
    "        if 'Final Energy' in line:\n",
    "            energy_line = line\n",
    "            words = energy_line.split()\n",
    "            energy = float(words[3])\n",
    "            filehandle.write(F'For the molecule {molecule_name} \\t the energy is {energy:.4f} \\n')\n",
    "            #.4f indicates 4 places after decimal output\n",
    "\n",
    "filehandle.close() #it won't actually write it until you close it\n"
   ]
  },
  {
   "cell_type": "code",
   "execution_count": null,
   "metadata": {},
   "outputs": [],
   "source": []
  }
 ],
 "metadata": {
  "kernelspec": {
   "display_name": "Python 3",
   "language": "python",
   "name": "python3"
  },
  "language_info": {
   "codemirror_mode": {
    "name": "ipython",
    "version": 3
   },
   "file_extension": ".py",
   "mimetype": "text/x-python",
   "name": "python",
   "nbconvert_exporter": "python",
   "pygments_lexer": "ipython3",
   "version": "3.7.6"
  }
 },
 "nbformat": 4,
 "nbformat_minor": 4
}
